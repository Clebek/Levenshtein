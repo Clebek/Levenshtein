{
 "cells": [
  {
   "cell_type": "code",
   "execution_count": 1,
   "source": [
    "import pandas as pd\n",
    "import numpy as np\n",
    "import levenshtein as lev"
   ],
   "outputs": [],
   "metadata": {}
  },
  {
   "cell_type": "code",
   "execution_count": 2,
   "source": [
    "!wget https://data.stadt-zuerich.ch/dataset/sid_stapo_hundenamen/download/20210103_hundenamen.csv"
   ],
   "outputs": [
    {
     "output_type": "stream",
     "name": "stdout",
     "text": [
      "--2021-07-29 20:29:10--  https://data.stadt-zuerich.ch/dataset/sid_stapo_hundenamen/download/20210103_hundenamen.csv\n",
      "Resolving data.stadt-zuerich.ch (data.stadt-zuerich.ch)... 194.88.196.121\n",
      "Connecting to data.stadt-zuerich.ch (data.stadt-zuerich.ch)|194.88.196.121|:443... connected.\n",
      "HTTP request sent, awaiting response... 200 OK\n",
      "Length: 174863 (171K) [text/csv]\n",
      "Saving to: ‘20210103_hundenamen.csv’\n",
      "\n",
      "20210103_hundenamen 100%[===================>] 170,76K  --.-KB/s    in 0,1s    \n",
      "\n",
      "2021-07-29 20:29:10 (1,33 MB/s) - ‘20210103_hundenamen.csv’ saved [174863/174863]\n",
      "\n"
     ]
    }
   ],
   "metadata": {}
  },
  {
   "cell_type": "code",
   "execution_count": 3,
   "source": [
    "dognames = pd.read_csv('20210103_hundenamen.csv')\n",
    "dognames.head()"
   ],
   "outputs": [
    {
     "output_type": "execute_result",
     "data": {
      "text/plain": [
       "                      HUNDENAME  GEBURTSJAHR_HUND GESCHLECHT_HUND\n",
       "0                         Ituma              2011               w\n",
       "1      \"Bo\" Bendy of Treegarden              2020               m\n",
       "2         \"Bobby\" Lord Sinclair              2009               m\n",
       "3    \"Buddy\" Fortheringhay's J.              2011               m\n",
       "4  \"Fly\" Showring i fly for you              2015               w"
      ],
      "text/html": [
       "<div>\n",
       "<style scoped>\n",
       "    .dataframe tbody tr th:only-of-type {\n",
       "        vertical-align: middle;\n",
       "    }\n",
       "\n",
       "    .dataframe tbody tr th {\n",
       "        vertical-align: top;\n",
       "    }\n",
       "\n",
       "    .dataframe thead th {\n",
       "        text-align: right;\n",
       "    }\n",
       "</style>\n",
       "<table border=\"1\" class=\"dataframe\">\n",
       "  <thead>\n",
       "    <tr style=\"text-align: right;\">\n",
       "      <th></th>\n",
       "      <th>HUNDENAME</th>\n",
       "      <th>GEBURTSJAHR_HUND</th>\n",
       "      <th>GESCHLECHT_HUND</th>\n",
       "    </tr>\n",
       "  </thead>\n",
       "  <tbody>\n",
       "    <tr>\n",
       "      <th>0</th>\n",
       "      <td>Ituma</td>\n",
       "      <td>2011</td>\n",
       "      <td>w</td>\n",
       "    </tr>\n",
       "    <tr>\n",
       "      <th>1</th>\n",
       "      <td>\"Bo\" Bendy of Treegarden</td>\n",
       "      <td>2020</td>\n",
       "      <td>m</td>\n",
       "    </tr>\n",
       "    <tr>\n",
       "      <th>2</th>\n",
       "      <td>\"Bobby\" Lord Sinclair</td>\n",
       "      <td>2009</td>\n",
       "      <td>m</td>\n",
       "    </tr>\n",
       "    <tr>\n",
       "      <th>3</th>\n",
       "      <td>\"Buddy\" Fortheringhay's J.</td>\n",
       "      <td>2011</td>\n",
       "      <td>m</td>\n",
       "    </tr>\n",
       "    <tr>\n",
       "      <th>4</th>\n",
       "      <td>\"Fly\" Showring i fly for you</td>\n",
       "      <td>2015</td>\n",
       "      <td>w</td>\n",
       "    </tr>\n",
       "  </tbody>\n",
       "</table>\n",
       "</div>"
      ]
     },
     "metadata": {},
     "execution_count": 3
    }
   ],
   "metadata": {}
  },
  {
   "cell_type": "markdown",
   "source": [
    "## Getting all dognames with Levenshtein distance 1 to 'Luca'"
   ],
   "metadata": {}
  },
  {
   "cell_type": "code",
   "execution_count": 4,
   "source": [
    "namelist = []\n",
    "for name in set(dognames['HUNDENAME']): #using set to avoid repetitions\n",
    "    if lev.lev('Luca',name) == 1:\n",
    "        namelist += [name]\n"
   ],
   "outputs": [],
   "metadata": {}
  },
  {
   "cell_type": "code",
   "execution_count": 5,
   "source": [
    "print(*namelist,sep=',')\n"
   ],
   "outputs": [
    {
     "output_type": "stream",
     "name": "stdout",
     "text": [
      "Luce,Lupa,Cuca,Yuca,Luna,Luba,Lucy,Luma,Lula,Lucia,Lua,Lucas\n"
     ]
    }
   ],
   "metadata": {}
  },
  {
   "cell_type": "code",
   "execution_count": 6,
   "source": [
    "#using the naive recursive algorithm takes much longer\n",
    "namelist2 = []\n",
    "for name in set(dognames['HUNDENAME']): #using set to avoid repetitions\n",
    "    if lev.naive_lev('Luca',name) == 1:\n",
    "        namelist2 += [name]\n"
   ],
   "outputs": [],
   "metadata": {}
  },
  {
   "cell_type": "code",
   "execution_count": 7,
   "source": [
    "namelist2"
   ],
   "outputs": [
    {
     "output_type": "execute_result",
     "data": {
      "text/plain": [
       "['Luce',\n",
       " 'Lupa',\n",
       " 'Cuca',\n",
       " 'Yuca',\n",
       " 'Luna',\n",
       " 'Luba',\n",
       " 'Lucy',\n",
       " 'Luma',\n",
       " 'Lula',\n",
       " 'Lucia',\n",
       " 'Lua',\n",
       " 'Lucas']"
      ]
     },
     "metadata": {},
     "execution_count": 7
    }
   ],
   "metadata": {}
  },
  {
   "cell_type": "code",
   "execution_count": null,
   "source": [],
   "outputs": [],
   "metadata": {}
  }
 ],
 "metadata": {
  "orig_nbformat": 4,
  "language_info": {
   "name": "python",
   "version": "3.8.10",
   "mimetype": "text/x-python",
   "codemirror_mode": {
    "name": "ipython",
    "version": 3
   },
   "pygments_lexer": "ipython3",
   "nbconvert_exporter": "python",
   "file_extension": ".py"
  },
  "kernelspec": {
   "name": "python3",
   "display_name": "Python 3.8.10 64-bit"
  },
  "interpreter": {
   "hash": "31f2aee4e71d21fbe5cf8b01ff0e069b9275f58929596ceb00d14d90e3e16cd6"
  }
 },
 "nbformat": 4,
 "nbformat_minor": 2
}